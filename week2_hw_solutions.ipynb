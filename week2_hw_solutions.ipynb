{
 "cells": [
  {
   "cell_type": "code",
   "execution_count": 8,
   "metadata": {},
   "outputs": [
    {
     "name": "stdout",
     "output_type": "stream",
     "text": [
      "Vertical Stack:\n",
      " [[ 1  2  3]\n",
      " [ 4  5  6]\n",
      " [ 7  5  9]\n",
      " [10 11 12]]\n",
      "Horizontal Stack:\n",
      " [[ 1  2  3  7  5  9]\n",
      " [ 4  5  6 10 11 12]]\n"
     ]
    }
   ],
   "source": [
    "import numpy as np\n",
    "\n",
    "# Define two custom numpy arrays A and B (as per lecture slides)\n",
    "A = np.array([[1, 2, 3], [4, 5, 6]])\n",
    "B = np.array([[7, 5, 9], [10, 11, 12]])\n",
    "\n",
    "# 1. Stack Vertically and Horizontally\n",
    "vertical_stack = np.vstack((A, B))\n",
    "horizontal_stack = np.hstack((A, B))\n",
    "\n",
    "print(\"Vertical Stack:\\n\", vertical_stack)\n",
    "print(\"Horizontal Stack:\\n\", horizontal_stack)\n"
   ]
  },
  {
   "cell_type": "code",
   "execution_count": 9,
   "metadata": {},
   "outputs": [
    {
     "name": "stdout",
     "output_type": "stream",
     "text": [
      "Common Elements: [5]\n"
     ]
    }
   ],
   "source": [
    "# 2. Find Common Elements Between A and B\n",
    "common_elements = np.intersect1d(A, B)\n",
    "print(\"Common Elements:\", common_elements)"
   ]
  },
  {
   "cell_type": "code",
   "execution_count": 10,
   "metadata": {},
   "outputs": [
    {
     "name": "stdout",
     "output_type": "stream",
     "text": [
      "Filtered Numbers from A (Between 5 and 10): [5 6]\n"
     ]
    }
   ],
   "source": [
    "# 3. Extract Numbers from A Within a Specific Range (e.g., between 5 and 10)\n",
    "filtered_A = A[(A >= 5) & (A <= 10)]\n",
    "print(\"Filtered Numbers from A (Between 5 and 10):\", filtered_A)"
   ]
  },
  {
   "cell_type": "code",
   "execution_count": 11,
   "metadata": {},
   "outputs": [
    {
     "name": "stdout",
     "output_type": "stream",
     "text": [
      "Filtered Iris Data:\n",
      " [[4.8 3.4 1.6 0.2]\n",
      " [4.8 3.4 1.9 0.2]\n",
      " [4.7 3.2 1.6 0.2]\n",
      " [4.8 3.1 1.6 0.2]\n",
      " [4.9 2.4 3.3 1. ]\n",
      " [4.9 2.5 4.5 1.7]]\n"
     ]
    }
   ],
   "source": [
    "# 4. Load and Filter `iris_2d` Dataset Based on Conditions\n",
    "url = 'https://archive.ics.uci.edu/ml/machine-learning-databases/iris/iris.data'\n",
    "\n",
    "iris_2d = np.genfromtxt(url, delimiter=',', dtype='float', usecols=[0,1,2,3])\n",
    "\n",
    "# Filter rows where petallength (3rd column) > 1.5 and sepallength (1st column) < 5.0\n",
    "filtered_iris = iris_2d[(iris_2d[:, 2] > 1.5) & (iris_2d[:, 0] < 5.0)]\n",
    "print(\"Filtered Iris Data:\\n\", filtered_iris)"
   ]
  },
  {
   "cell_type": "code",
   "execution_count": null,
   "metadata": {},
   "outputs": [
    {
     "name": "stdout",
     "output_type": "stream",
     "text": [
      "Filtered Data (Every 20th Row):\n",
      "    Manufacturer    Model     Type\n",
      "0         Acura  Integra    Small\n",
      "20     Chrysler  LeBaron  Compact\n",
      "40        Honda  Prelude   Sporty\n",
      "60      Mercury   Cougar  Midsize\n",
      "80       Subaru   Loyale    Small\n"
     ]
    }
   ],
   "source": [
    "import pandas as pd\n",
    "\n",
    "# 1. Load and Filter 'Manufacturer', 'Model', and 'Type' for Every 20th Row\n",
    "df = pd.read_csv('Cars93_miss.csv')\n",
    "\n",
    "filtered_df = df.loc[::20, ['Manufacturer', 'Model', 'Type']]\n",
    "print(\"Filtered Data (Every 20th Row):\\n\", filtered_df)\n"
   ]
  },
  {
   "cell_type": "code",
   "execution_count": 13,
   "metadata": {},
   "outputs": [
    {
     "name": "stdout",
     "output_type": "stream",
     "text": [
      "\n",
      "Data after replacing NaN values in Min.Price & Max.Price:\n",
      "   Min.Price  Max.Price\n",
      "0  12.900000  18.800000\n",
      "1  29.200000  38.700000\n",
      "2  25.900000  32.300000\n",
      "3  17.118605  44.600000\n",
      "4  17.118605  21.459091\n",
      "\n",
      "Missing Values in Min.Price and Max.Price (After Replacement):\n",
      "Min.Price    0\n",
      "Max.Price    0\n",
      "dtype: int64\n"
     ]
    }
   ],
   "source": [
    "# 2. Replace Missing Values in 'Min.Price' and 'Max.Price' with Their Respective Mean\n",
    "df[['Min.Price', 'Max.Price']] = df[['Min.Price', 'Max.Price']].apply(lambda col: col.fillna(col.mean()))\n",
    "print(\"\\nData after replacing NaN values in Min.Price & Max.Price:\")\n",
    "print(df[['Min.Price', 'Max.Price']].head())\n",
    "print(\"\\nMissing Values in Min.Price and Max.Price (After Replacement):\")\n",
    "print(df[['Min.Price', 'Max.Price']].isnull().sum())\n"
   ]
  },
  {
   "cell_type": "code",
   "execution_count": 14,
   "metadata": {},
   "outputs": [
    {
     "name": "stdout",
     "output_type": "stream",
     "text": [
      "\n",
      "Rows with Sum Greater than 100:\n",
      "      0   1   2   3\n",
      "2   28  37  29  16\n",
      "3   36  35  36  33\n",
      "7   27  35  37  17\n",
      "10  35  23  39  33\n",
      "13  25  25  28  25\n"
     ]
    }
   ],
   "source": [
    "# 3. Get Rows Where Row Sum > 100\n",
    "df_random = pd.DataFrame(np.random.randint(10, 40, 60).reshape(-1, 4))\n",
    "\n",
    "filtered_rows = df_random[df_random.sum(axis=1) > 100]\n",
    "print(\"\\nRows with Sum Greater than 100:\\n\", filtered_rows)"
   ]
  },
  {
   "cell_type": "code",
   "execution_count": null,
   "metadata": {},
   "outputs": [],
   "source": []
  }
 ],
 "metadata": {
  "kernelspec": {
   "display_name": "Python 3",
   "language": "python",
   "name": "python3"
  },
  "language_info": {
   "codemirror_mode": {
    "name": "ipython",
    "version": 3
   },
   "file_extension": ".py",
   "mimetype": "text/x-python",
   "name": "python",
   "nbconvert_exporter": "python",
   "pygments_lexer": "ipython3",
   "version": "3.10.11"
  }
 },
 "nbformat": 4,
 "nbformat_minor": 2
}
